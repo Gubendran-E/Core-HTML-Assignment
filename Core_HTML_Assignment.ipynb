{
  "nbformat": 4,
  "nbformat_minor": 0,
  "metadata": {
    "colab": {
      "provenance": []
    },
    "kernelspec": {
      "name": "python3",
      "display_name": "Python 3"
    },
    "language_info": {
      "name": "python"
    }
  },
  "cells": [
    {
      "cell_type": "markdown",
      "source": [],
      "metadata": {
        "id": "ENNyYTpa11TB"
      }
    },
    {
      "cell_type": "markdown",
      "source": [
        "Q1. Build a simple webpage that displays text as shown in the below image."
      ],
      "metadata": {
        "id": "aMHMknsn13tc"
      }
    },
    {
      "cell_type": "code",
      "source": [
        "<!DOCTYPE html>\n",
        "<html lang=\"en\">\n",
        "<head>\n",
        "    <meta charset=\"UTF-8\">\n",
        "    <meta name=\"viewport\">\n",
        "    <title>CORE HTML</title>\n",
        "</head>\n",
        "<body>\n",
        "    <p><b>This text will be bolded</b></p>\n",
        "    <p><i>This text will be Italic</i></p>\n",
        "    <p><u>This text will be underlined</u></p>\n",
        "    <p><mark>This text will be bolded</mark></p>\n",
        "    <p>This text normal text <sup>This will super scripted text</sup> this text again normal text</p>\n",
        "    <hr><p>This text normal text <sub>This will super scripted text</sub>\n",
        "    <P><font size=\"5\">Normal text </font><font size=\"3\">Small Text</font>\n",
        "</body>\n",
        "</html>"
      ],
      "metadata": {
        "id": "JK9ctjlO1_O3"
      },
      "execution_count": null,
      "outputs": []
    },
    {
      "cell_type": "markdown",
      "source": [
        "Q2. Build a simple webpage that helps users navigate different web development-related websites. Note: On clicking the hyperlink the web pages should open in a new tab. Below is a reference image."
      ],
      "metadata": {
        "id": "0-zQQIcT6PwK"
      }
    },
    {
      "cell_type": "code",
      "source": [
        "<!DOCTYPE html>\n",
        "<html lang=\"en\">\n",
        "<head>\n",
        "    <meta charset=\"UTF-8\">\n",
        "    <meta name=\"viewport\" content=\"width=device-width, initial-scale=1.0\">\n",
        "    <title>Web Development Webpage</title>\n",
        "</head>\n",
        "<body>\n",
        "    <h1>Navigate Me</h1>\n",
        "    <ul>\n",
        "        <li>Take me to <u><a href=\"https://www.pw.live/defence/batches\" target=\"_blank\">PW Defence class</a></u> to buy a course</li>\n",
        "        <li>Take me to <u><a href=\"https://developer.mozilla.org/en-US/\" target=\"_blank\">MDN Docs</a></u> to know more about Web development</li>\n",
        "        <li>Take me to <u><a href=\"https://www.google.co.in/\" target=\"_blank\">google</a></u> to search images</li>\n",
        "        </ul>\n",
        "\n",
        "</body>\n",
        "</html>"
      ],
      "metadata": {
        "id": "Yd71pGzr6XlF"
      },
      "execution_count": null,
      "outputs": []
    },
    {
      "cell_type": "markdown",
      "source": [
        "Q3. Build a simple blog web page with 3 pages home, web development, and web design. Each page must\n",
        "contain hyperlinks to other pages in the top, a heading of the page topic and a paragraph of information.\n",
        "For the home page you can add some information about yourself."
      ],
      "metadata": {
        "id": "zlRvKcVAHIPV"
      }
    },
    {
      "cell_type": "code",
      "source": [
        "<!DOCTYPE html>\n",
        "<html>\n",
        "<head>\n",
        "    <title>Home - My Blog</title>\n",
        "</head>\n",
        "<body>\n",
        "    <nav>\n",
        "        <a href=\"web-development.html\">Web Development</a> |\n",
        "        <a href=\"web-design.html\">Web Design</a>\n",
        "    </nav>\n",
        "    <h2>Home<h2>\n",
        "    <h1>Welcome to My Blog First</h1>\n",
        "    <p>Hi, I'm Gubendran I'm a beginner web developer exploring HTML, CSS, and JS. </p>\n",
        "</body>\n",
        "</html"
      ],
      "metadata": {
        "id": "HyO2m8_rHYWZ"
      },
      "execution_count": null,
      "outputs": []
    },
    {
      "cell_type": "code",
      "source": [
        "<!DOCTYPE html>\n",
        "<html>\n",
        "<head>\n",
        "    <title>Web Development - My Blog</title>\n",
        "</head>\n",
        "<body>\n",
        "    <nav>\n",
        "        <a href=\"home.html\">Home</a> | |\n",
        "        <a href=\"web-design.html\">Web Design</a>\n",
        "    </nav>\n",
        "\n",
        "    <h1>Web Development Second</h1>\n",
        "    <p>Web development is about building websites using technologies like HTML for structure, CSS for styling, and JS for interactivity.</p>\n",
        "</body>\n",
        "</html>"
      ],
      "metadata": {
        "id": "lNYPbIk3KJsb"
      },
      "execution_count": null,
      "outputs": []
    },
    {
      "cell_type": "code",
      "source": [
        "<!DOCTYPE html>\n",
        "<html>\n",
        "<head>\n",
        "    <title>Web Design - My Blog</title>\n",
        "</head>\n",
        "<body>\n",
        "    <nav>\n",
        "        <a href=\"home.html\">Home</a> |\n",
        "        <a href=\"web-development.html\">Web Development</a>\n",
        "    </nav>\n",
        "\n",
        "    <h1>Web Design Third</h1>\n",
        "    <p>Web design focuses on the look and feel of a website. It involves choosing layouts, fonts, colors, and graphics to create an attractive and user-friendly experience.</p>\n",
        "</body>\n",
        "</html>\n"
      ],
      "metadata": {
        "id": "oYcNkrbPK-Xy"
      },
      "execution_count": null,
      "outputs": []
    },
    {
      "cell_type": "markdown",
      "source": [
        "Q4.Create an ordered list of HTML tags. Each list item must include the tag name and some information about\n",
        "the tag."
      ],
      "metadata": {
        "id": "9aERcp_aPoLH"
      }
    },
    {
      "cell_type": "code",
      "source": [
        "<!DOCTYPE html>\n",
        "<html>\n",
        "<head>\n",
        "    <title>Ordered List of HTML Tags</title>\n",
        "</head>\n",
        "<body>\n",
        "\n",
        "    <h1>HTML Tags - Ordered List</h1>\n",
        "\n",
        "    <ol>\n",
        "        <li>\n",
        "            <strong>&lt;html&gt;</strong> – The root element that defines the entire HTML document.\n",
        "        </li>\n",
        "        <li>\n",
        "            <strong>&lt;head&gt;</strong> – Contains metadata, links to stylesheets, and the document’s title.\n",
        "        </li>\n",
        "        <li>\n",
        "            <strong>&lt;title&gt;</strong> – Sets the title of the web page (appears in the browser tab).\n",
        "        </li>\n",
        "        <li>\n",
        "            <strong>&lt;body&gt;</strong> – Encloses all the visible content on the web page.\n",
        "        </li>\n",
        "        <li>\n",
        "            <strong>&lt;h1&gt; to &lt;h6&gt;</strong> – Define headings, where &lt;h1&gt; is the largest and &lt;h6&gt; is the smallest.\n",
        "        </li>\n",
        "        <li>\n",
        "            <strong>&lt;p&gt;</strong> – Defines a paragraph of text.\n",
        "        </li>\n",
        "        <li>\n",
        "            <strong>&lt;a&gt;</strong> – Creates a hyperlink to .\n",
        "        </li>\n",
        "        <li>\n",
        "            <strong>&lt;img&gt;</strong> – an image in the page.\n",
        "        </li>\n",
        "        <li>\n",
        "            <strong>&lt;ul&gt;</strong> – Creates an  (bulleted) list.\n",
        "        </li>\n",
        "        <li>\n",
        "            <strong>&lt;ol&gt;</strong> – Creates an ordered  list.\n",
        "        </li>\n",
        "        <li>\n",
        "            <strong>&lt;li&gt;</strong> – Defines a list item in &lt;ul&gt; or &lt;ol&gt;.\n",
        "        </li>\n",
        "        <li>\n",
        "            <strong>&lt;div&gt;</strong> – Defines a division or container used for layout and styling.\n",
        "        </li>\n",
        "        <li>\n",
        "            <strong>&lt;br&gt;</strong> – Inserts a line break .\n",
        "        </li>\n",
        "        <li>\n",
        "            <strong>&lt;hr&gt;</strong> – Inserts a horizontal line .\n",
        "        </li>\n",
        "        <li>\n",
        "            <strong>&lt;strong&gt;</strong> – Makes text bold .\n",
        "        </li>\n",
        "    </ol>\n",
        "\n",
        "</body>\n",
        "</html>"
      ],
      "metadata": {
        "id": "64Hxe0QnPw2f"
      },
      "execution_count": null,
      "outputs": []
    },
    {
      "cell_type": "markdown",
      "source": [
        "Q5.Create a description list of full stack web development tech stack, using the <dl> tag. Each term should be\n",
        "a tech stack name and each description should be a brief explanation of what the tech stack is used for"
      ],
      "metadata": {
        "id": "KUcE01VtSaTX"
      }
    },
    {
      "cell_type": "code",
      "source": [
        "<!DOCTYPE html>\n",
        "<html>\n",
        "<head>\n",
        "    <title>Full Stack Web Development Tech Stack</title>\n",
        "</head>\n",
        "<body>\n",
        "\n",
        "    <h1>Full Stack Web Development Tech Stack</h1>\n",
        "\n",
        "    <dl>\n",
        "        <dt>HTML</dt>\n",
        "        <dd>Defines the structure and content of web pages using elements like headings, paragraphs, and links.</dd>\n",
        "\n",
        "        <dt>CSS</dt>\n",
        "        <dd>Styles HTML content to make websites visually attractive, colors, and fonts.</dd>\n",
        "\n",
        "        <dt>JavaScript</dt>\n",
        "        <dd>Adds interactivity and dynamic behavior to websites on the client side.</dd>\n",
        "\n",
        "        <dt>React</dt>\n",
        "        <dd>A JavaScript library for building fast, interactive user interfaces using components.</dd>\n",
        "\n",
        "        <dt>Node.js</dt>\n",
        "        <dd>Allows developers to run JavaScript on the server side, useful for building backend services and APIs.</dd>\n",
        "\n",
        "        <dt>MongoDB</dt>\n",
        "        <dd>A NoSQL database that stores data in flexible, JSON-like documents.</dd>\n",
        "\n",
        "        <dt>Git</dt>\n",
        "        <dd>A version control system used to track changes in code and collaborate with other developers.</dd>\n",
        "\n",
        "        <dt>GitHub</dt>\n",
        "        <dd>A platform for hosting code repositories, enabling collaboration and project management.</dd>\n",
        "    </dl>\n",
        "\n",
        "</body>\n",
        "</html>"
      ],
      "metadata": {
        "id": "Knj9ZaBmlbCI"
      },
      "execution_count": null,
      "outputs": []
    },
    {
      "cell_type": "markdown",
      "source": [
        "Q6.Create an ordered list of the full stack web development tech stack HTML, CSS, and JS. For each tech\n",
        "stack, create a table that lists the tech stack name, its primary use cases, and some key features or\n",
        "benefits."
      ],
      "metadata": {
        "id": "j0xDlMk0Zk85"
      }
    },
    {
      "cell_type": "code",
      "source": [
        "!DOCTYPE html>\n",
        "<html>\n",
        "<head>\n",
        "    <title>Full Stack Web Development Tech Stack</title>\n",
        "    <style>\n",
        "        table {\n",
        "            width: 100%;\n",
        "            border-collapse: collapse;\n",
        "            margin-bottom: 10px;\n",
        "        }\n",
        "        th, td {\n",
        "            border: 1px solid black;\n",
        "        }\n",
        "        th {\n",
        "            background-color: #f2f2f2;\n",
        "        }\n",
        "    </style>\n",
        "</head>\n",
        "<h2>1.HTML</h2>\n",
        "<table>\n",
        "    <tr>\n",
        "    <th>Primary Use Cases</th>\n",
        "    <th>Key Feature/ Benifits</th>\n",
        "</tr>\n",
        "<tr>\n",
        "<td>Building the structure of web pages </td>\n",
        "<td>\n",
        "    <ul>\n",
        "        <li>simple and easy to learn</li>\n",
        "        <li>Compitabel with all broswer</li>\n",
        "        <li>Allows for semantic markup</li>\n",
        "    </ul>\n",
        "</td>\n",
        "</tr>\n",
        "</table>\n",
        "<h2>2.CSS</h2>\n",
        "<table>\n",
        "    <tr>\n",
        "        <th>Primary use Cases</th>\n",
        "        <th>Key Fetures/Benifits</th>\n",
        "    </tr>\n",
        "    <tr>\n",
        "        <td>Styling and Layout of Web Pages</td>\n",
        "        <td>\n",
        "            <ul>\n",
        "            <li>Allows for seprations of content and Presentation</li>\n",
        "            <li>Enable Responsive design</li>\n",
        "            <li>Offers a wide a Range of styling option</li>\n",
        "        </ul></td>\n",
        "    </tr>\n",
        "</table>\n",
        "<body>\n",
        "\n",
        "</body>\n",
        "</html>"
      ],
      "metadata": {
        "id": "5ZkzYLdW-GLh"
      },
      "execution_count": null,
      "outputs": []
    },
    {
      "cell_type": "markdown",
      "source": [
        "Q7. Build a complex nested list structure representing a multi-level table of contents. Use unordered lists\n",
        "(<ul>) and list items (<li>) with inline-block styling to create a structured layout. Apply formatting tags to\n",
        "enhance the presentation of list items"
      ],
      "metadata": {
        "id": "HFXPsWAp-Q3u"
      }
    },
    {
      "cell_type": "code",
      "source": [
        "<!DOCTYPE html>\n",
        "<html lang=\"en\">\n",
        "<head>\n",
        "    <meta charset=\"UTF-8\">\n",
        "    <meta name=\"viewport\" content=\"width=Table of cont, initial-scale=1.0\">\n",
        "    <title>Table of content</title>\n",
        "</head>\n",
        "<style>\n",
        "    ul, ol, li {\n",
        "        display: : inline-block;\n",
        "    }\n",
        "</style>\n",
        "<h2><bold>Table of content</bold></h2>\n",
        "<body>\n",
        "    <ul><u>\n",
        "        <li><i>Part 1: Introduction</i></li>\n",
        "        <li><i>Part 2: Getting Strated</i></li>\n",
        "    <ul>\n",
        "                <li>  2.1 Installing the software</li>\n",
        "                <li>  2.2 Creating a new Project</li>\n",
        "                     <ul>\n",
        "                        <li>2.2.1 Project terms</li>\n",
        "                        <li>2.2.2 Custamizing Setting</li></ul></ul>\n",
        "\n",
        "                <ul>\n",
        "                    <li>2.3 Exploring the interface </li>\n",
        "        <ul>\n",
        "            <li>2.3.1 Toolbar Feature</li>\n",
        "            <li>2.3.2 Panel Layout</li>\n",
        "            <ul>\n",
        "                <li>2.3.2.1 Docking Panel</li>\n",
        "                <li>2.3.2.2 Tabbed Interface</li>\n",
        "            </ul>\n",
        "        </ul>\n",
        "    </ul>\n",
        "</ul>\n",
        "            <ul>\n",
        "                <li><i>Part 3: Advance Topics</i></li>\n",
        "            <ul>\n",
        "                <li>3.1 Working within plugin<ul>\n",
        "                    <li>3.1.1 Installing Plugins</li>\n",
        "                     <li>3.1.2 Plugin configuration</li></ul>\n",
        "                     <li>3.2 Custamizing the UI</li>\n",
        "                     <ul><li> 3.2.1 Changing Thems</li>\n",
        "                    <li>3.2.2 Configuration shortcut</li>\n",
        "                </ul>\n",
        "            </li>\n",
        "        </ul>\n",
        "                    <ul>\n",
        "                        <li>3.2 Optimazing perfmance</li>\n",
        "                    <ul>\n",
        "                        <li>3.3.1 caching Stratigies</li>\n",
        "                        <li>Resource Minification</li></ul>\n",
        "                    </ul></ul>\n",
        "                    <ul><li><i>Part 4</i></li></ul></u>\n",
        "\n",
        "\n",
        "\n",
        "</body>\n",
        "</html>"
      ],
      "metadata": {
        "id": "GJ1wsLJvg-Oj"
      },
      "execution_count": null,
      "outputs": []
    },
    {
      "cell_type": "markdown",
      "source": [
        "Q8. Create a table to display a conference schedule. Each row corresponds to a time slot, and each column corresponds to a room. Some time slots might have multiple sessions running simultaneously in different\n",
        "rooms. Utilize rowspan and colspan attributes as necessary to accommodate this complex schedule. (use table attribute “cellpadding”  to give extra padding in each table cell"
      ],
      "metadata": {
        "id": "JBPMYCzpIm-s"
      }
    },
    {
      "cell_type": "code",
      "source": [
        "<!DOCTYPE html>\n",
        "<html lang=\"en\">\n",
        "<head>\n",
        "    <meta charset=\"UTF-8\">\n",
        "    <meta name=\"viewport\" content=\"width=device-width, initial-scale=1.0\">\n",
        "    <title>Confrance Schedule</title>\n",
        "</head>\n",
        "<style>\n",
        "    table, th, td { border: 1px solid black;\n",
        "    border-collapse: collapse;\n",
        "    }\n",
        "</style>\n",
        "<body>\n",
        "    <h1><Strong>Confrance Shedule</Strong></h1>\n",
        "    <Table style=\"width:80%\">\n",
        "        <tr>\n",
        "            <th>Time</th>\n",
        "            <th>Room 1</th>\n",
        "            <th>Room 2</th>\n",
        "            <th>Room 3</th>\n",
        "            <th>Room 4</th>\n",
        "        </tr>\n",
        "        <tr>\n",
        "            <td rowspan=\"3\">09:00 AM- 10:00 AM</td>\n",
        "            <td rowspan=\"2\">keystone</td>\n",
        "            <td>Session A</td>\n",
        "            <td>session B</td>\n",
        "            <td rowspan=\"3\">Session C</td>\n",
        "        </tr>\n",
        "        <tr>\n",
        "            <td>Session D</td>\n",
        "            <td>Session E</td>\n",
        "        </tr>\n",
        "        <tr>\n",
        "        <td>10.30 AM- 11.30 AM</td>\n",
        "        <td colspan=\"2\">Session F</td>\n",
        "        </tr>\n",
        "        <tr>\n",
        "            <td>12.00 PM- 01.00 PM</td>\n",
        "            <td colspan=\"6\">Launch Break</td>\n",
        "        </tr>\n",
        "        <tr>\n",
        "            <td rowspan=\"2\">\n",
        "                1:00 PM- 2:00 PM\n",
        "            </td>\n",
        "            <td>Session G</td>\n",
        "            <td rowspan=\"2\">Session H</td>\n",
        "            <td>Session I</td>\n",
        "            <td>Session J</td>\n",
        "        </tr>\n",
        "        <tr>\n",
        "            <td>Session K</td>\n",
        "            <td>Sesssion L</td>\n",
        "            <td>Session M</td>\n",
        "        </tr>\n",
        "\n",
        "    </Table>\n",
        "\n",
        "</body>\n",
        "</html>"
      ],
      "metadata": {
        "id": "qU60yPK4agH3"
      },
      "execution_count": null,
      "outputs": []
    }
  ]
}